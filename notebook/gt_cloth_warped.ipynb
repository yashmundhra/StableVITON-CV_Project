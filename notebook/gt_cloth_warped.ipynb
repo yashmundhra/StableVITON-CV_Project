{
 "cells": [
  {
   "cell_type": "code",
   "execution_count": 1,
   "metadata": {},
   "outputs": [],
   "source": [
    "from PIL import Image\n",
    "import cv2 as cv\n",
    "\n",
    "import numpy as np\n",
    "import matplotlib.pyplot as plt\n",
    "\n",
    "import os\n",
    "import os.path as osp\n",
    "\n",
    "from tqdm import tqdm"
   ]
  },
  {
   "cell_type": "code",
   "execution_count": 2,
   "metadata": {},
   "outputs": [],
   "source": [
    "data_path = '../DATA/VITON-HD/train'\n",
    "subjects = os.listdir(osp.join(data_path, 'image'))"
   ]
  },
  {
   "cell_type": "code",
   "execution_count": 3,
   "metadata": {},
   "outputs": [
    {
     "data": {
      "text/plain": [
       "<matplotlib.image.AxesImage at 0x7fc0f01e6bc0>"
      ]
     },
     "execution_count": 3,
     "metadata": {},
     "output_type": "execute_result"
    },
    {
     "data": {
      "image/png": "[encoded data removed]",
      "text/plain": [
       "<Figure size 640x480 with 1 Axes>"
      ]
     },
     "metadata": {},
     "output_type": "display_data"
    }
   ],
   "source": [
    "x = np.linspace(0.9, 0.8, 768)\n",
    "y = np.linspace(0.9, 0.8, 1024)\n",
    "X, Y = np.meshgrid(x, y)\n",
    "\n",
    "\n",
    "bg = ((X + Y)/2 * 255).astype(np.uint8)\n",
    "bg = np.stack([bg, bg, bg], axis=2)\n",
    "plt.imshow(bg, cmap='gray')"
   ]
  },
  {
   "cell_type": "markdown",
   "metadata": {},
   "source": [
    "### `gt_cloth_warped` w/ Fixed Background"
   ]
  },
  {
   "cell_type": "code",
   "execution_count": 5,
   "metadata": {},
   "outputs": [
    {
     "name": "stderr",
     "output_type": "stream",
     "text": [
      "100%|██████████| 11647/11647 [01:46<00:00, 108.88it/s]\n"
     ]
    }
   ],
   "source": [
    "os.makedirs(osp.join(data_path, 'gt_cloth_warped'), exist_ok=True)\n",
    "\n",
    "for s in tqdm(subjects):\n",
    "    image = cv.imread(osp.join(data_path, 'image', s))\n",
    "    mask = cv.imread(osp.join(data_path, 'gt_cloth_warped_mask', s))\n",
    "\n",
    "    mask = mask > 127\n",
    "\n",
    "    warped_cloth = bg.copy()\n",
    "    warped_cloth[mask] = image[mask]\n",
    "    # warped_cloth = cv.cvtColor(warped_cloth, cv.COLOR_BGR2RGB)\n",
    "\n",
    "    # plt.imshow(warped_cloth)\n",
    "\n",
    "    cv.imwrite(osp.join(data_path, 'gt_cloth_warped', s), warped_cloth)"
   ]
  },
  {
   "cell_type": "markdown",
   "metadata": {},
   "source": [
    "### `gt_cloth_warped` + `agn_mask`"
   ]
  },
  {
   "cell_type": "code",
   "execution_count": 19,
   "metadata": {},
   "outputs": [
    {
     "name": "stderr",
     "output_type": "stream",
     "text": [
      "100%|██████████| 11647/11647 [01:38<00:00, 117.74it/s]\n"
     ]
    }
   ],
   "source": [
    "os.makedirs(osp.join(data_path, 'gt_cloth_warped+agn_mask'), exist_ok=True)\n",
    "\n",
    "for s in tqdm(subjects):\n",
    "    warped_cloth = cv.imread(osp.join(data_path, 'gt_cloth_warped', s))\n",
    "    agn_mask = cv.imread(osp.join(data_path, 'agnostic-mask', s.replace('.jpg', '_mask.jpg')))\n",
    "\n",
    "    agn_mask = agn_mask > 127\n",
    "    warped_cloth[agn_mask] = 127\n",
    "    # warped_cloth = cv.cvtColor(warped_cloth, cv.COLOR_BGR2RGB)\n",
    "\n",
    "    # plt.imshow(warped_cloth)\n",
    "\n",
    "    cv.imwrite(osp.join(data_path, 'gt_cloth_warped+agn_mask', s), warped_cloth)"
   ]
  },
  {
   "cell_type": "markdown",
   "metadata": {},
   "source": [
    "### `gt_cloth_warped` - `agn_mask`"
   ]
  },
  {
   "cell_type": "code",
   "execution_count": 7,
   "metadata": {},
   "outputs": [
    {
     "name": "stderr",
     "output_type": "stream",
     "text": [
      "100%|██████████| 11647/11647 [01:47<00:00, 108.31it/s]\n"
     ]
    }
   ],
   "source": [
    "os.makedirs(osp.join(data_path, 'gt_cloth_warped-agn_mask'), exist_ok=True)\n",
    "\n",
    "for s in tqdm(subjects):\n",
    "    warped_cloth = cv.imread(osp.join(data_path, 'gt_cloth_warped', s))\n",
    "    agn_mask = cv.imread(osp.join(data_path, 'agnostic-mask', s.replace('.jpg', '_mask.jpg')))\n",
    "    gt_mask = cv.imread(osp.join(data_path, 'gt_cloth_warped_mask', s))\n",
    "\n",
    "    agn_mask = agn_mask > 127\n",
    "    gt_mask = gt_mask > 127\n",
    "\n",
    "    result = bg.copy()\n",
    "    mask = gt_mask & ~agn_mask\n",
    "    result[mask] = warped_cloth[mask]\n",
    "    # warped_cloth = cv.cvtColor(warped_cloth, cv.COLOR_BGR2RGB)\n",
    "\n",
    "    # plt.imshow(warped_cloth)\n",
    "\n",
    "    cv.imwrite(osp.join(data_path, 'gt_cloth_warped-agn_mask', s), result)"
   ]
  }
 ],
 "metadata": {
  "kernelspec": {
   "display_name": "StableVITON",
   "language": "python",
   "name": "python3"
  },
  "language_info": {
   "codemirror_mode": {
    "name": "ipython",
    "version": 3
   },
   "file_extension": ".py",
   "mimetype": "text/x-python",
   "name": "python",
   "nbconvert_exporter": "python",
   "pygments_lexer": "ipython3",
   "version": "3.10.14"
  }
 },
 "nbformat": 4,
 "nbformat_minor": 2
}
